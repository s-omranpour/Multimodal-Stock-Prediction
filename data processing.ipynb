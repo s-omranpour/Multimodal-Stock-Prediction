{
 "cells": [
  {
   "cell_type": "code",
   "execution_count": 1,
   "metadata": {},
   "outputs": [],
   "source": [
    "import os\n",
    "from datetime import datetime, timedelta\n",
    "import json\n",
    "import torch\n",
    "import pandas as pd\n",
    "import numpy as np\n",
    "from importlib import reload\n",
    "from tqdm.notebook import tqdm\n",
    "import matplotlib.pyplot as plt"
   ]
  },
  {
   "cell_type": "code",
   "execution_count": null,
   "metadata": {},
   "outputs": [
    {
     "data": {
      "text/plain": [
       "87"
      ]
     },
     "execution_count": 3,
     "metadata": {},
     "output_type": "execute_result"
    }
   ],
   "source": [
    "path = 'stocknet-dataset/tweet/raw/'\n",
    "companies = sorted(os.listdir(path))\n",
    "len(companies)"
   ]
  },
  {
   "cell_type": "markdown",
   "metadata": {},
   "source": [
    "## stats Processing"
   ]
  },
  {
   "cell_type": "code",
   "execution_count": 4,
   "metadata": {},
   "outputs": [
    {
     "data": {
      "text/plain": [
       "731"
      ]
     },
     "execution_count": 4,
     "metadata": {},
     "output_type": "execute_result"
    }
   ],
   "source": [
    "start_date_str = '2014-01-01'\n",
    "end_date_str = '2016-01-01'\n",
    "start_date = datetime.strptime(start_date_str, \"%Y-%m-%d\")\n",
    "end_date = datetime.strptime(end_date_str, \"%Y-%m-%d\")\n",
    "delta = end_date - start_date\n",
    "all_dates = set([str((start_date + timedelta(days=i)).date()) for i in range(delta.days + 1)])\n",
    "len(all_dates)"
   ]
  },
  {
   "cell_type": "code",
   "execution_count": null,
   "metadata": {},
   "outputs": [
    {
     "data": {
      "application/vnd.jupyter.widget-view+json": {
       "model_id": "f4a228d5c4684e41abb74963acab7f55",
       "version_major": 2,
       "version_minor": 0
      },
      "text/plain": [
       "  0%|          | 0/87 [00:00<?, ?it/s]"
      ]
     },
     "metadata": {},
     "output_type": "display_data"
    },
    {
     "data": {
      "text/plain": [
       "(87, 731, 3)"
      ]
     },
     "execution_count": 10,
     "metadata": {},
     "output_type": "execute_result"
    }
   ],
   "source": [
    "path = 'stocknet-dataset/price/raw/'\n",
    "\n",
    "all_timeseries = []\n",
    "for company in tqdm(companies):\n",
    "    df = pd.read_csv(path + company + '.csv')\n",
    "    df = df[(df['Date'] >= start_date_str) & (df['Date'] <= end_date_str)]\n",
    "    temp_df = pd.DataFrame(columns=df.columns)\n",
    "    temp_df['Date'] = pd.Series(list(all_dates.difference(set(df['Date']))))\n",
    "    temp_df.fillna(0, inplace=True)\n",
    "    df = pd.concat([df, temp_df])\n",
    "    df = df.sort_values(by='Date', ascending=True)\n",
    "    all_timeseries += [df[['Adj Close', 'High', 'Low']].values]\n",
    "\n",
    "all_timeseries = np.stack(all_timeseries)\n",
    "all_timeseries.shape"
   ]
  },
  {
   "cell_type": "code",
   "execution_count": null,
   "metadata": {},
   "outputs": [],
   "source": [
    "np.save('all_timeseries.npy', all_timeseries)"
   ]
  },
  {
   "cell_type": "code",
   "execution_count": null,
   "metadata": {},
   "outputs": [],
   "source": []
  }
 ],
 "metadata": {
  "kernelspec": {
   "display_name": "Python 3 (ipykernel)",
   "language": "python",
   "name": "python3"
  },
  "language_info": {
   "codemirror_mode": {
    "name": "ipython",
    "version": 3
   },
   "file_extension": ".py",
   "mimetype": "text/x-python",
   "name": "python",
   "nbconvert_exporter": "python",
   "pygments_lexer": "ipython3",
   "version": "3.10.11"
  }
 },
 "nbformat": 4,
 "nbformat_minor": 4
}
